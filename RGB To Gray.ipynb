{
 "cells": [
  {
   "cell_type": "code",
   "execution_count": 1,
   "metadata": {
    "collapsed": true
   },
   "outputs": [],
   "source": [
    "import numpy as np\n",
    "import os\n",
    "import matplotlib.image as mpimg\n",
    "from skimage import color\n",
    "from skimage import io"
   ]
  },
  {
   "cell_type": "code",
   "execution_count": 2,
   "metadata": {},
   "outputs": [
    {
     "name": "stderr",
     "output_type": "stream",
     "text": [
      "/home/sarthak/anaconda2/lib/python2.7/site-packages/skimage/util/dtype.py:122: UserWarning: Possible precision loss when converting from float64 to uint8\n",
      "  .format(dtypeobj_in, dtypeobj_out))\n",
      "/home/sarthak/anaconda2/lib/python2.7/site-packages/skimage/io/_io.py:132: UserWarning: Test_Gray_Images_Mask_512x512/img_3.jpg is a low contrast image\n",
      "  warn('%s is a low contrast image' % fname)\n",
      "/home/sarthak/anaconda2/lib/python2.7/site-packages/skimage/util/dtype.py:122: UserWarning: Possible precision loss when converting from float64 to uint16\n",
      "  .format(dtypeobj_in, dtypeobj_out))\n"
     ]
    }
   ],
   "source": [
    "for index in range(1,142):\n",
    "    img_name=\"img_\"+str(index)\n",
    "    img_loc=\"Test_Gray_Images_Mask_512x512/\"\n",
    "    extension=\".jpg\"\n",
    "    if(not(os.path.isfile(img_loc+img_name+extension))):\n",
    "        extension=\".png\"\n",
    "    if(not(os.path.isfile(img_loc+img_name+extension))):\n",
    "        extension=\".gif\"\n",
    "    img = color.rgb2gray(io.imread(img_loc+img_name+extension));\n",
    "    save_img_loc=\"Test_Gray_Images_Mask_512x512/\"\n",
    "    io.imsave(save_img_loc+img_name+extension,img)"
   ]
  },
  {
   "cell_type": "code",
   "execution_count": null,
   "metadata": {
    "collapsed": true
   },
   "outputs": [],
   "source": []
  }
 ],
 "metadata": {
  "anaconda-cloud": {},
  "kernelspec": {
   "display_name": "Python 2",
   "language": "python",
   "name": "python2"
  },
  "language_info": {
   "codemirror_mode": {
    "name": "ipython",
    "version": 2
   },
   "file_extension": ".py",
   "mimetype": "text/x-python",
   "name": "python",
   "nbconvert_exporter": "python",
   "pygments_lexer": "ipython2",
   "version": "2.7.13"
  }
 },
 "nbformat": 4,
 "nbformat_minor": 1
}
