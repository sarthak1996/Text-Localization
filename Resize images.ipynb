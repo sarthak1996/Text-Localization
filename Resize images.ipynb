{
 "cells": [
  {
   "cell_type": "code",
   "execution_count": 1,
   "metadata": {
    "collapsed": true
   },
   "outputs": [],
   "source": [
    "import PIL\n",
    "from PIL import Image\n",
    "import os"
   ]
  },
  {
   "cell_type": "code",
   "execution_count": 2,
   "metadata": {
    "collapsed": true
   },
   "outputs": [],
   "source": [
    "width = 512\n",
    "height= 512"
   ]
  },
  {
   "cell_type": "code",
   "execution_count": 3,
   "metadata": {
    "collapsed": true
   },
   "outputs": [],
   "source": [
    "for index in range(1,142):\n",
    "    img_name=\"img_\"+str(index)\n",
    "    img_loc=\"Test_Gray_Mask/\"\n",
    "    extension=\".jpg\"\n",
    "    #Read image\n",
    "    if(not(os.path.isfile(img_loc+img_name+extension))):\n",
    "        extension=\".png\"\n",
    "    if(not(os.path.isfile(img_loc+img_name+extension))):\n",
    "        extension=\".gif\"\n",
    "    img = Image.open(img_loc+img_name+extension)\n",
    "    img = img.resize((width, height), PIL.Image.ANTIALIAS)\n",
    "    \n",
    "    img_name=\"img_\"+str(index)\n",
    "    img_loc=\"Test_Gray_Images_Mask_512x512/\"\n",
    "    img.save(img_loc+img_name+extension)"
   ]
  },
  {
   "cell_type": "code",
   "execution_count": null,
   "metadata": {
    "collapsed": true
   },
   "outputs": [],
   "source": [
    "for index in range(1,411):\n",
    "    img_name=\"img_\"+str(index)\n",
    "    img_loc=\"Train_Gray_Images_Mask/\"\n",
    "    extension=\".jpg\"\n",
    "    #Read image\n",
    "    if(not(os.path.isfile(img_loc+img_name+extension))):\n",
    "        extension=\".png\"\n",
    "    if(not(os.path.isfile(img_loc+img_name+extension))):\n",
    "        extension=\".gif\"\n",
    "    img = Image.open(img_loc+img_name+extension)\n",
    "    img = img.resize((width, height), PIL.Image.ANTIALIAS)\n",
    "    \n",
    "    img_name=\"img_\"+str(index)\n",
    "    img_loc=\"Train_Color_Images_Mask_Resized_512x512/\"\n",
    "    img.save(img_loc+img_name+extension)"
   ]
  },
  {
   "cell_type": "code",
   "execution_count": null,
   "metadata": {
    "collapsed": true
   },
   "outputs": [],
   "source": []
  }
 ],
 "metadata": {
  "kernelspec": {
   "display_name": "Python 2",
   "language": "python",
   "name": "python2"
  },
  "language_info": {
   "codemirror_mode": {
    "name": "ipython",
    "version": 2
   },
   "file_extension": ".py",
   "mimetype": "text/x-python",
   "name": "python",
   "nbconvert_exporter": "python",
   "pygments_lexer": "ipython2",
   "version": "2.7.13"
  }
 },
 "nbformat": 4,
 "nbformat_minor": 2
}
