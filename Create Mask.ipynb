{
 "cells": [
  {
   "cell_type": "code",
   "execution_count": 1,
   "metadata": {
    "collapsed": true
   },
   "outputs": [],
   "source": [
    "import numpy as np\n",
    "import os\n",
    "import matplotlib.image as mpimg\n",
    "import matplotlib.pyplot as plt\n",
    "from PIL import Image"
   ]
  },
  {
   "cell_type": "code",
   "execution_count": 2,
   "metadata": {
    "collapsed": true
   },
   "outputs": [],
   "source": [
    "from skimage import color\n",
    "from skimage import io"
   ]
  },
  {
   "cell_type": "code",
   "execution_count": 3,
   "metadata": {
    "collapsed": true
   },
   "outputs": [],
   "source": [
    "def isMask(i,j,left,top,right,bottom):\n",
    "    if(i>=left and i<=right and j>=top and j<=bottom):\n",
    "        return True\n",
    "    return False"
   ]
  },
  {
   "cell_type": "code",
   "execution_count": 4,
   "metadata": {
    "scrolled": true
   },
   "outputs": [
    {
     "name": "stderr",
     "output_type": "stream",
     "text": [
      "/home/sarthak/anaconda2/lib/python2.7/site-packages/skimage/io/_io.py:132: UserWarning: Test_Gray_Mask/img_3.jpg is a low contrast image\n",
      "  warn('%s is a low contrast image' % fname)\n"
     ]
    }
   ],
   "source": [
    "for index in range(1,142):\n",
    "    img_name=\"img_\"+str(index)\n",
    "    img_loc=\"Test_Images/\"\n",
    "    extension=\".jpg\"\n",
    "    #Read image\n",
    "    if(not(os.path.isfile(img_loc+img_name+extension))):\n",
    "        extension=\".png\"\n",
    "    if(not(os.path.isfile(img_loc+img_name+extension))):\n",
    "        extension=\".gif\"\n",
    "    img = io.imread(img_loc+img_name+extension);\n",
    "    \n",
    "    #Read ground truth boxes\n",
    "    gt_loc=\"Test_Mask_Gt/\"\n",
    "    gt_name=\"gt_img_\"+str(index)+\".txt\"\n",
    "    text_file = open(gt_loc+gt_name, \"r\")\n",
    "    lines = text_file.readlines()\n",
    "    gt_arr=np.array([])\n",
    "    for i in range(0,len(lines)):\n",
    "        for j in range(0,4):\n",
    "            gt_arr=np.append(gt_arr,lines[i].split(',')[j])\n",
    "    gt_arr=gt_arr.astype(np.int64)\n",
    "    \n",
    "    \n",
    "    \n",
    "    for row in range(img.shape[0]):\n",
    "        for col in range(img.shape[1]):\n",
    "            img[row][col]=0\n",
    "    \n",
    "    #Getting left,top,right,bottom\n",
    "    iters=0;\n",
    "    for j in range(int(gt_arr.size/4)):\n",
    "        ind=j*4\n",
    "        left=gt_arr[ind]\n",
    "        ind+=1\n",
    "        top=gt_arr[ind]\n",
    "        ind+=1\n",
    "        right=gt_arr[ind]\n",
    "        ind+=1\n",
    "        bottom=gt_arr[ind]\n",
    "        # Generating mask\n",
    "        for row in range(img.shape[0]):\n",
    "            for col in range(img.shape[1]):\n",
    "                if(isMask(col,row,left,top,right,bottom)):\n",
    "                    img[row][col]=255\n",
    "        \n",
    "        \n",
    "    text_file.close()\n",
    "    save_img_loc=\"Test_Gray_Mask/\"\n",
    "    io.imsave(save_img_loc+img_name+extension,img)"
   ]
  },
  {
   "cell_type": "code",
   "execution_count": null,
   "metadata": {
    "collapsed": true
   },
   "outputs": [],
   "source": []
  }
 ],
 "metadata": {
  "anaconda-cloud": {},
  "kernelspec": {
   "display_name": "Python 2",
   "language": "python",
   "name": "python2"
  },
  "language_info": {
   "codemirror_mode": {
    "name": "ipython",
    "version": 2
   },
   "file_extension": ".py",
   "mimetype": "text/x-python",
   "name": "python",
   "nbconvert_exporter": "python",
   "pygments_lexer": "ipython2",
   "version": "2.7.13"
  }
 },
 "nbformat": 4,
 "nbformat_minor": 1
}
